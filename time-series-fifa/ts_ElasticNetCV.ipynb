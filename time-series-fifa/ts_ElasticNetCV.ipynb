{
 "cells": [
  {
   "cell_type": "code",
   "execution_count": 17,
   "metadata": {
    "collapsed": true
   },
   "outputs": [],
   "source": [
    "import pandas as pd\n",
    "import numpy as np\n",
    "\n",
    "from datetime import timedelta\n",
    "\n",
    "from sklearn.linear_model import LinearRegression\n",
    "from sklearn.linear_model import ElasticNet\n",
    "\n",
    "import warnings\n",
    "warnings.filterwarnings('ignore')"
   ]
  },
  {
   "cell_type": "code",
   "execution_count": 18,
   "metadata": {
    "collapsed": true
   },
   "outputs": [],
   "source": [
    "df = pd.read_csv(\"data/player_price.csv\")\n",
    "sample_subm = pd.read_csv(\"data/kaggle_sample_submission.csv\")"
   ]
  },
  {
   "cell_type": "code",
   "execution_count": 19,
   "metadata": {
    "collapsed": true
   },
   "outputs": [],
   "source": [
    "sample_subm[\"player_id\"] = sample_subm[\"id\"].apply(lambda x: int(x.split(\"_\")[0]))\n",
    "sample_subm[\"Date\"] = sample_subm[\"id\"].apply(lambda x: np.datetime64(x.split(\"_\")[1]))"
   ]
  },
  {
   "cell_type": "code",
   "execution_count": 20,
   "metadata": {
    "collapsed": true
   },
   "outputs": [],
   "source": [
    "df = df[df[\"player_id\"].isin(sample_subm[\"player_id\"].unique())]\n",
    "df['Date'] = pd.to_datetime(df['timestamp'], unit='ms')\n",
    "df.drop([\"timestamp\", \"ps_price\", \"player_name\"], axis=1, inplace=True)"
   ]
  },
  {
   "cell_type": "code",
   "execution_count": 27,
   "metadata": {
    "collapsed": true
   },
   "outputs": [],
   "source": [
    "dataForModel = df[(df[\"Date\"] <= df[\"Date\"].max() - timedelta(days=0)) & \n",
    "                   (df[\"Date\"] > df[\"Date\"].max() - timedelta(days=14))]\n",
    "dataForModel[\"Date\"] = dataForModel[\"Date\"].astype(str)\n",
    "dataForModel = pd.pivot_table(dataForModel, values=\"xbox_price\", \n",
    "                              index='player_id', columns='Date',\n",
    "                              aggfunc=np.sum)\n",
    "dataForModel.sort_index(inplace=True)"
   ]
  },
  {
   "cell_type": "code",
   "execution_count": 29,
   "metadata": {},
   "outputs": [
    {
     "data": {
      "text/html": [
       "<div>\n",
       "<style>\n",
       "    .dataframe thead tr:only-child th {\n",
       "        text-align: right;\n",
       "    }\n",
       "\n",
       "    .dataframe thead th {\n",
       "        text-align: left;\n",
       "    }\n",
       "\n",
       "    .dataframe tbody tr th {\n",
       "        vertical-align: top;\n",
       "    }\n",
       "</style>\n",
       "<table border=\"1\" class=\"dataframe\">\n",
       "  <thead>\n",
       "    <tr style=\"text-align: right;\">\n",
       "      <th>Date</th>\n",
       "      <th>2017-06-09</th>\n",
       "      <th>2017-06-10</th>\n",
       "      <th>2017-06-11</th>\n",
       "      <th>2017-06-12</th>\n",
       "      <th>2017-06-13</th>\n",
       "      <th>2017-06-14</th>\n",
       "      <th>2017-06-15</th>\n",
       "      <th>2017-06-16</th>\n",
       "      <th>2017-06-17</th>\n",
       "      <th>2017-06-18</th>\n",
       "      <th>2017-06-19</th>\n",
       "      <th>2017-06-20</th>\n",
       "      <th>2017-06-21</th>\n",
       "      <th>2017-06-22</th>\n",
       "    </tr>\n",
       "    <tr>\n",
       "      <th>player_id</th>\n",
       "      <th></th>\n",
       "      <th></th>\n",
       "      <th></th>\n",
       "      <th></th>\n",
       "      <th></th>\n",
       "      <th></th>\n",
       "      <th></th>\n",
       "      <th></th>\n",
       "      <th></th>\n",
       "      <th></th>\n",
       "      <th></th>\n",
       "      <th></th>\n",
       "      <th></th>\n",
       "      <th></th>\n",
       "    </tr>\n",
       "  </thead>\n",
       "  <tbody>\n",
       "    <tr>\n",
       "      <th>1</th>\n",
       "      <td>3289895</td>\n",
       "      <td>3258917</td>\n",
       "      <td>3196091</td>\n",
       "      <td>3369791</td>\n",
       "      <td>3311636</td>\n",
       "      <td>3308667</td>\n",
       "      <td>3269308</td>\n",
       "      <td>3212762</td>\n",
       "      <td>3312852</td>\n",
       "      <td>3227893</td>\n",
       "      <td>3142655</td>\n",
       "      <td>3135387</td>\n",
       "      <td>3248943</td>\n",
       "      <td>3137143</td>\n",
       "    </tr>\n",
       "    <tr>\n",
       "      <th>2</th>\n",
       "      <td>796667</td>\n",
       "      <td>796655</td>\n",
       "      <td>795044</td>\n",
       "      <td>786191</td>\n",
       "      <td>789865</td>\n",
       "      <td>787050</td>\n",
       "      <td>779230</td>\n",
       "      <td>784590</td>\n",
       "      <td>772174</td>\n",
       "      <td>761528</td>\n",
       "      <td>757681</td>\n",
       "      <td>747924</td>\n",
       "      <td>741715</td>\n",
       "      <td>742514</td>\n",
       "    </tr>\n",
       "    <tr>\n",
       "      <th>3</th>\n",
       "      <td>409258</td>\n",
       "      <td>417459</td>\n",
       "      <td>409529</td>\n",
       "      <td>401496</td>\n",
       "      <td>411600</td>\n",
       "      <td>402856</td>\n",
       "      <td>406806</td>\n",
       "      <td>404118</td>\n",
       "      <td>397944</td>\n",
       "      <td>390694</td>\n",
       "      <td>385732</td>\n",
       "      <td>379722</td>\n",
       "      <td>378681</td>\n",
       "      <td>378507</td>\n",
       "    </tr>\n",
       "    <tr>\n",
       "      <th>4</th>\n",
       "      <td>602222</td>\n",
       "      <td>590167</td>\n",
       "      <td>553917</td>\n",
       "      <td>553500</td>\n",
       "      <td>550667</td>\n",
       "      <td>556462</td>\n",
       "      <td>554714</td>\n",
       "      <td>555952</td>\n",
       "      <td>572346</td>\n",
       "      <td>537107</td>\n",
       "      <td>513586</td>\n",
       "      <td>528290</td>\n",
       "      <td>549743</td>\n",
       "      <td>551679</td>\n",
       "    </tr>\n",
       "    <tr>\n",
       "      <th>5</th>\n",
       "      <td>394579</td>\n",
       "      <td>385083</td>\n",
       "      <td>377909</td>\n",
       "      <td>379167</td>\n",
       "      <td>387667</td>\n",
       "      <td>386846</td>\n",
       "      <td>374929</td>\n",
       "      <td>383381</td>\n",
       "      <td>388962</td>\n",
       "      <td>363000</td>\n",
       "      <td>346607</td>\n",
       "      <td>349387</td>\n",
       "      <td>354543</td>\n",
       "      <td>351241</td>\n",
       "    </tr>\n",
       "  </tbody>\n",
       "</table>\n",
       "</div>"
      ],
      "text/plain": [
       "Date       2017-06-09  2017-06-10  2017-06-11  2017-06-12  2017-06-13  \\\n",
       "player_id                                                               \n",
       "1             3289895     3258917     3196091     3369791     3311636   \n",
       "2              796667      796655      795044      786191      789865   \n",
       "3              409258      417459      409529      401496      411600   \n",
       "4              602222      590167      553917      553500      550667   \n",
       "5              394579      385083      377909      379167      387667   \n",
       "\n",
       "Date       2017-06-14  2017-06-15  2017-06-16  2017-06-17  2017-06-18  \\\n",
       "player_id                                                               \n",
       "1             3308667     3269308     3212762     3312852     3227893   \n",
       "2              787050      779230      784590      772174      761528   \n",
       "3              402856      406806      404118      397944      390694   \n",
       "4              556462      554714      555952      572346      537107   \n",
       "5              386846      374929      383381      388962      363000   \n",
       "\n",
       "Date       2017-06-19  2017-06-20  2017-06-21  2017-06-22  \n",
       "player_id                                                  \n",
       "1             3142655     3135387     3248943     3137143  \n",
       "2              757681      747924      741715      742514  \n",
       "3              385732      379722      378681      378507  \n",
       "4              513586      528290      549743      551679  \n",
       "5              346607      349387      354543      351241  "
      ]
     },
     "execution_count": 29,
     "metadata": {},
     "output_type": "execute_result"
    }
   ],
   "source": [
    "dataForModel.head()"
   ]
  },
  {
   "cell_type": "code",
   "execution_count": null,
   "metadata": {
    "collapsed": true
   },
   "outputs": [],
   "source": []
  },
  {
   "cell_type": "code",
   "execution_count": 33,
   "metadata": {
    "collapsed": true
   },
   "outputs": [],
   "source": [
    "dataForPrediction = df[df[\"Date\"] > df[\"Date\"].max() - timedelta(days=14)]\n",
    "dataForPrediction[\"Date\"] = dataForPrediction[\"Date\"].astype(str)\n",
    "dataForPrediction = pd.pivot_table(dataForPrediction, values=\"xbox_price\", \n",
    "                              index='player_id', columns='Date',\n",
    "                              aggfunc=np.sum)\n",
    "dataForPrediction.sort_index(inplace=True)"
   ]
  },
  {
   "cell_type": "code",
   "execution_count": 34,
   "metadata": {},
   "outputs": [
    {
     "data": {
      "text/html": [
       "<div>\n",
       "<style>\n",
       "    .dataframe thead tr:only-child th {\n",
       "        text-align: right;\n",
       "    }\n",
       "\n",
       "    .dataframe thead th {\n",
       "        text-align: left;\n",
       "    }\n",
       "\n",
       "    .dataframe tbody tr th {\n",
       "        vertical-align: top;\n",
       "    }\n",
       "</style>\n",
       "<table border=\"1\" class=\"dataframe\">\n",
       "  <thead>\n",
       "    <tr style=\"text-align: right;\">\n",
       "      <th>Date</th>\n",
       "      <th>2017-06-09</th>\n",
       "      <th>2017-06-10</th>\n",
       "      <th>2017-06-11</th>\n",
       "      <th>2017-06-12</th>\n",
       "      <th>2017-06-13</th>\n",
       "      <th>2017-06-14</th>\n",
       "      <th>2017-06-15</th>\n",
       "      <th>2017-06-16</th>\n",
       "      <th>2017-06-17</th>\n",
       "      <th>2017-06-18</th>\n",
       "      <th>2017-06-19</th>\n",
       "      <th>2017-06-20</th>\n",
       "      <th>2017-06-21</th>\n",
       "      <th>2017-06-22</th>\n",
       "    </tr>\n",
       "    <tr>\n",
       "      <th>player_id</th>\n",
       "      <th></th>\n",
       "      <th></th>\n",
       "      <th></th>\n",
       "      <th></th>\n",
       "      <th></th>\n",
       "      <th></th>\n",
       "      <th></th>\n",
       "      <th></th>\n",
       "      <th></th>\n",
       "      <th></th>\n",
       "      <th></th>\n",
       "      <th></th>\n",
       "      <th></th>\n",
       "      <th></th>\n",
       "    </tr>\n",
       "  </thead>\n",
       "  <tbody>\n",
       "    <tr>\n",
       "      <th>1</th>\n",
       "      <td>3289895</td>\n",
       "      <td>3258917</td>\n",
       "      <td>3196091</td>\n",
       "      <td>3369791</td>\n",
       "      <td>3311636</td>\n",
       "      <td>3308667</td>\n",
       "      <td>3269308</td>\n",
       "      <td>3212762</td>\n",
       "      <td>3312852</td>\n",
       "      <td>3227893</td>\n",
       "      <td>3142655</td>\n",
       "      <td>3135387</td>\n",
       "      <td>3248943</td>\n",
       "      <td>3137143</td>\n",
       "    </tr>\n",
       "    <tr>\n",
       "      <th>2</th>\n",
       "      <td>796667</td>\n",
       "      <td>796655</td>\n",
       "      <td>795044</td>\n",
       "      <td>786191</td>\n",
       "      <td>789865</td>\n",
       "      <td>787050</td>\n",
       "      <td>779230</td>\n",
       "      <td>784590</td>\n",
       "      <td>772174</td>\n",
       "      <td>761528</td>\n",
       "      <td>757681</td>\n",
       "      <td>747924</td>\n",
       "      <td>741715</td>\n",
       "      <td>742514</td>\n",
       "    </tr>\n",
       "    <tr>\n",
       "      <th>3</th>\n",
       "      <td>409258</td>\n",
       "      <td>417459</td>\n",
       "      <td>409529</td>\n",
       "      <td>401496</td>\n",
       "      <td>411600</td>\n",
       "      <td>402856</td>\n",
       "      <td>406806</td>\n",
       "      <td>404118</td>\n",
       "      <td>397944</td>\n",
       "      <td>390694</td>\n",
       "      <td>385732</td>\n",
       "      <td>379722</td>\n",
       "      <td>378681</td>\n",
       "      <td>378507</td>\n",
       "    </tr>\n",
       "    <tr>\n",
       "      <th>4</th>\n",
       "      <td>602222</td>\n",
       "      <td>590167</td>\n",
       "      <td>553917</td>\n",
       "      <td>553500</td>\n",
       "      <td>550667</td>\n",
       "      <td>556462</td>\n",
       "      <td>554714</td>\n",
       "      <td>555952</td>\n",
       "      <td>572346</td>\n",
       "      <td>537107</td>\n",
       "      <td>513586</td>\n",
       "      <td>528290</td>\n",
       "      <td>549743</td>\n",
       "      <td>551679</td>\n",
       "    </tr>\n",
       "    <tr>\n",
       "      <th>5</th>\n",
       "      <td>394579</td>\n",
       "      <td>385083</td>\n",
       "      <td>377909</td>\n",
       "      <td>379167</td>\n",
       "      <td>387667</td>\n",
       "      <td>386846</td>\n",
       "      <td>374929</td>\n",
       "      <td>383381</td>\n",
       "      <td>388962</td>\n",
       "      <td>363000</td>\n",
       "      <td>346607</td>\n",
       "      <td>349387</td>\n",
       "      <td>354543</td>\n",
       "      <td>351241</td>\n",
       "    </tr>\n",
       "  </tbody>\n",
       "</table>\n",
       "</div>"
      ],
      "text/plain": [
       "Date       2017-06-09  2017-06-10  2017-06-11  2017-06-12  2017-06-13  \\\n",
       "player_id                                                               \n",
       "1             3289895     3258917     3196091     3369791     3311636   \n",
       "2              796667      796655      795044      786191      789865   \n",
       "3              409258      417459      409529      401496      411600   \n",
       "4              602222      590167      553917      553500      550667   \n",
       "5              394579      385083      377909      379167      387667   \n",
       "\n",
       "Date       2017-06-14  2017-06-15  2017-06-16  2017-06-17  2017-06-18  \\\n",
       "player_id                                                               \n",
       "1             3308667     3269308     3212762     3312852     3227893   \n",
       "2              787050      779230      784590      772174      761528   \n",
       "3              402856      406806      404118      397944      390694   \n",
       "4              556462      554714      555952      572346      537107   \n",
       "5              386846      374929      383381      388962      363000   \n",
       "\n",
       "Date       2017-06-19  2017-06-20  2017-06-21  2017-06-22  \n",
       "player_id                                                  \n",
       "1             3142655     3135387     3248943     3137143  \n",
       "2              757681      747924      741715      742514  \n",
       "3              385732      379722      378681      378507  \n",
       "4              513586      528290      549743      551679  \n",
       "5              346607      349387      354543      351241  "
      ]
     },
     "execution_count": 34,
     "metadata": {},
     "output_type": "execute_result"
    }
   ],
   "source": [
    "dataForPrediction.head()"
   ]
  },
  {
   "cell_type": "code",
   "execution_count": 35,
   "metadata": {
    "collapsed": true
   },
   "outputs": [],
   "source": [
    "target_df = df[df[\"Date\"] > df[\"Date\"].max() - timedelta(days=7)].sort_values([\"player_id\"])"
   ]
  },
  {
   "cell_type": "code",
   "execution_count": 36,
   "metadata": {
    "collapsed": true
   },
   "outputs": [],
   "source": [
    "models = []\n",
    "for day in target_df[\"Date\"].unique():\n",
    "    el = ElasticNet()\n",
    "    el.fit(dataForModel, target_df.loc[target_df[\"Date\"] == day, \"xbox_price\"])\n",
    "    models.append(el)"
   ]
  },
  {
   "cell_type": "code",
   "execution_count": 37,
   "metadata": {
    "collapsed": true,
    "scrolled": true
   },
   "outputs": [],
   "source": [
    "for i, day in enumerate(sample_subm[\"Date\"].unique()):\n",
    "    sample_subm.loc[sample_subm[\"Date\"] == day, \"price\"] = models[i].predict(dataForPrediction)"
   ]
  },
  {
   "cell_type": "code",
   "execution_count": 38,
   "metadata": {
    "collapsed": true
   },
   "outputs": [],
   "source": [
    "sample_subm[[\"id\", \"price\"]].to_csv(\"csv/prediction_ElasticNet_2.csv\", index=False)"
   ]
  },
  {
   "cell_type": "code",
   "execution_count": null,
   "metadata": {
    "collapsed": true
   },
   "outputs": [],
   "source": []
  }
 ],
 "metadata": {
  "kernelspec": {
   "display_name": "Python 3",
   "language": "python",
   "name": "python3"
  },
  "language_info": {
   "codemirror_mode": {
    "name": "ipython",
    "version": 3
   },
   "file_extension": ".py",
   "mimetype": "text/x-python",
   "name": "python",
   "nbconvert_exporter": "python",
   "pygments_lexer": "ipython3",
   "version": "3.6.1"
  },
  "varInspector": {
   "cols": {
    "lenName": 16,
    "lenType": 16,
    "lenVar": 40
   },
   "kernels_config": {
    "python": {
     "delete_cmd_postfix": "",
     "delete_cmd_prefix": "del ",
     "library": "var_list.py",
     "varRefreshCmd": "print(var_dic_list())"
    },
    "r": {
     "delete_cmd_postfix": ") ",
     "delete_cmd_prefix": "rm(",
     "library": "var_list.r",
     "varRefreshCmd": "cat(var_dic_list()) "
    }
   },
   "types_to_exclude": [
    "module",
    "function",
    "builtin_function_or_method",
    "instance",
    "_Feature"
   ],
   "window_display": false
  }
 },
 "nbformat": 4,
 "nbformat_minor": 2
}
