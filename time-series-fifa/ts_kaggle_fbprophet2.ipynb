{
 "cells": [
  {
   "cell_type": "code",
   "execution_count": 36,
   "metadata": {
    "collapsed": true
   },
   "outputs": [],
   "source": [
    "import warnings\n",
    "warnings.filterwarnings(\"ignore\")\n",
    "\n",
    "from fbprophet import Prophet\n",
    "from sklearn.linear_model import LinearRegression\n",
    "from sklearn.metrics import mean_absolute_error, mean_squared_error\n",
    "\n",
    "from scipy import stats\n",
    "import statsmodels.api as sm\n",
    "from itertools import product\n",
    "from datetime import timedelta\n",
    "\n",
    "import pandas as pd\n",
    "pd.options.display.max_columns = 999\n",
    "import numpy as np\n",
    "\n",
    "from sklearn.metrics import mean_squared_error\n",
    "#RMSE = mean_squared_error(y, y_pred)**0.5\n",
    "\n",
    "from plotly.offline import download_plotlyjs, init_notebook_mode, plot, iplot\n",
    "from plotly import graph_objs as go\n",
    "%matplotlib inline\n",
    "import matplotlib.pyplot as plt"
   ]
  },
  {
   "cell_type": "code",
   "execution_count": 37,
   "metadata": {},
   "outputs": [
    {
     "name": "stdout",
     "output_type": "stream",
     "text": [
      "Populating the interactive namespace from numpy and matplotlib\n"
     ]
    }
   ],
   "source": [
    "%pylab inline"
   ]
  },
  {
   "cell_type": "markdown",
   "metadata": {},
   "source": [
    "## data preparation"
   ]
  },
  {
   "cell_type": "code",
   "execution_count": 92,
   "metadata": {},
   "outputs": [
    {
     "name": "stdout",
     "output_type": "stream",
     "text": [
      "(22, 2)\n"
     ]
    },
    {
     "data": {
      "text/html": [
       "<div>\n",
       "<style>\n",
       "    .dataframe thead tr:only-child th {\n",
       "        text-align: right;\n",
       "    }\n",
       "\n",
       "    .dataframe thead th {\n",
       "        text-align: left;\n",
       "    }\n",
       "\n",
       "    .dataframe tbody tr th {\n",
       "        vertical-align: top;\n",
       "    }\n",
       "</style>\n",
       "<table border=\"1\" class=\"dataframe\">\n",
       "  <thead>\n",
       "    <tr style=\"text-align: right;\">\n",
       "      <th></th>\n",
       "      <th>y</th>\n",
       "      <th>ds</th>\n",
       "    </tr>\n",
       "  </thead>\n",
       "  <tbody>\n",
       "    <tr>\n",
       "      <th>251</th>\n",
       "      <td>3227500</td>\n",
       "      <td>2017-06-01</td>\n",
       "    </tr>\n",
       "    <tr>\n",
       "      <th>252</th>\n",
       "      <td>3115720</td>\n",
       "      <td>2017-06-02</td>\n",
       "    </tr>\n",
       "    <tr>\n",
       "      <th>253</th>\n",
       "      <td>3263857</td>\n",
       "      <td>2017-06-03</td>\n",
       "    </tr>\n",
       "    <tr>\n",
       "      <th>254</th>\n",
       "      <td>3351619</td>\n",
       "      <td>2017-06-04</td>\n",
       "    </tr>\n",
       "    <tr>\n",
       "      <th>255</th>\n",
       "      <td>3132091</td>\n",
       "      <td>2017-06-05</td>\n",
       "    </tr>\n",
       "    <tr>\n",
       "      <th>256</th>\n",
       "      <td>3535840</td>\n",
       "      <td>2017-06-06</td>\n",
       "    </tr>\n",
       "    <tr>\n",
       "      <th>257</th>\n",
       "      <td>3508952</td>\n",
       "      <td>2017-06-07</td>\n",
       "    </tr>\n",
       "    <tr>\n",
       "      <th>258</th>\n",
       "      <td>3515515</td>\n",
       "      <td>2017-06-08</td>\n",
       "    </tr>\n",
       "    <tr>\n",
       "      <th>259</th>\n",
       "      <td>3289895</td>\n",
       "      <td>2017-06-09</td>\n",
       "    </tr>\n",
       "    <tr>\n",
       "      <th>260</th>\n",
       "      <td>3258917</td>\n",
       "      <td>2017-06-10</td>\n",
       "    </tr>\n",
       "  </tbody>\n",
       "</table>\n",
       "</div>"
      ],
      "text/plain": [
       "           y         ds\n",
       "251  3227500 2017-06-01\n",
       "252  3115720 2017-06-02\n",
       "253  3263857 2017-06-03\n",
       "254  3351619 2017-06-04\n",
       "255  3132091 2017-06-05\n",
       "256  3535840 2017-06-06\n",
       "257  3508952 2017-06-07\n",
       "258  3515515 2017-06-08\n",
       "259  3289895 2017-06-09\n",
       "260  3258917 2017-06-10"
      ]
     },
     "execution_count": 92,
     "metadata": {},
     "output_type": "execute_result"
    }
   ],
   "source": [
    "df = pd.read_csv('data/player_price.csv')\n",
    "df['ds'] = pd.to_datetime(df['timestamp'], unit='ms')\n",
    "df=df[df.ds>='2017-06-01']\n",
    "df=df.loc[df[\"player_id\"] == 1]\n",
    "df.drop([\"timestamp\", \"ps_price\", \"player_name\", \"player_id\"], axis=1, inplace=True)\n",
    "df.rename(columns={\"xbox_price\": \"y\"}, inplace=True)\n",
    "df=df.replace(0,1)\n",
    "print(df.shape)\n",
    "df.head(10)"
   ]
  },
  {
   "cell_type": "code",
   "execution_count": 93,
   "metadata": {},
   "outputs": [
    {
     "data": {
      "text/plain": [
       "Int64Index([    1,     2,     3,     4,     5,     6,     7,     8,     9,\n",
       "               10,\n",
       "            ...\n",
       "            18336, 18337, 18338, 18339, 18340, 18341, 18342, 18344, 18345,\n",
       "            18370],\n",
       "           dtype='int64', name='player_id', length=1253)"
      ]
     },
     "execution_count": 93,
     "metadata": {},
     "output_type": "execute_result"
    }
   ],
   "source": [
    "#id-шники для предикшина\n",
    "sample_subm = pd.read_csv('data/kaggle_sample_submission.csv')\n",
    "sample_subm[\"player_id\"] = sample_subm[\"id\"].apply(lambda x: int(x.split(\"_\")[0]))\n",
    "player_id=sample_subm.groupby(['player_id'])['price'].count()\n",
    "player_id.index"
   ]
  },
  {
   "cell_type": "code",
   "execution_count": null,
   "metadata": {},
   "outputs": [],
   "source": []
  },
  {
   "cell_type": "markdown",
   "metadata": {},
   "source": [
    "## prediction"
   ]
  },
  {
   "cell_type": "code",
   "execution_count": 138,
   "metadata": {},
   "outputs": [],
   "source": [
    "predictions = 7\n",
    "#train_df=df\n",
    "train_df = df[:-predictions]"
   ]
  },
  {
   "cell_type": "code",
   "execution_count": 139,
   "metadata": {},
   "outputs": [
    {
     "name": "stdout",
     "output_type": "stream",
     "text": [
      "Disabling yearly seasonality. Run prophet with yearly_seasonality=True to override this.\n",
      "Wall time: 3.07 s\n"
     ]
    }
   ],
   "source": [
    "%%time\n",
    "m = Prophet()\n",
    "m.fit(train_df)\n",
    "future = m.make_future_dataframe(periods=predictions)\n",
    "forecast = m.predict(future)\n",
    "future.tail(7)"
   ]
  },
  {
   "cell_type": "code",
   "execution_count": 140,
   "metadata": {},
   "outputs": [
    {
     "name": "stdout",
     "output_type": "stream",
     "text": [
      "MAPE 7.495783421829282\n",
      "MAE 238515.0399445612\n",
      "251768.789117\n"
     ]
    }
   ],
   "source": [
    "cmp_df = forecast.set_index('ds')[['yhat', 'yhat_lower', 'yhat_upper']].join(df.set_index('ds'))\n",
    "\n",
    "cmp_df['e'] = cmp_df['y'] - cmp_df['yhat']\n",
    "cmp_df['p'] = 100*cmp_df['e']/cmp_df['y']\n",
    "print('MAPE', np.mean(abs(cmp_df[-predictions:]['p'])))\n",
    "print('MAE', np.mean(abs(cmp_df[-predictions:]['e'])))\n",
    "print(mean_squared_error(df.y[-7:], cmp_df.yhat[-7:])**0.5)"
   ]
  },
  {
   "cell_type": "markdown",
   "metadata": {},
   "source": [
    "---"
   ]
  },
  {
   "cell_type": "markdown",
   "metadata": {},
   "source": [
    "### validation"
   ]
  },
  {
   "cell_type": "code",
   "execution_count": 141,
   "metadata": {
    "collapsed": true
   },
   "outputs": [],
   "source": [
    "predictions = 7\n",
    "train_df = df[:-predictions]"
   ]
  },
  {
   "cell_type": "code",
   "execution_count": 142,
   "metadata": {},
   "outputs": [
    {
     "name": "stdout",
     "output_type": "stream",
     "text": [
      "Disabling yearly seasonality. Run prophet with yearly_seasonality=True to override this.\n",
      "Wall time: 1.93 s\n"
     ]
    }
   ],
   "source": [
    "%%time\n",
    "m = Prophet()\n",
    "m.fit(train_df)\n",
    "future = m.make_future_dataframe(periods=predictions)\n",
    "forecast = m.predict(future)\n",
    "future.tail(7)"
   ]
  },
  {
   "cell_type": "code",
   "execution_count": null,
   "metadata": {},
   "outputs": [],
   "source": []
  },
  {
   "cell_type": "code",
   "execution_count": 143,
   "metadata": {
    "scrolled": true
   },
   "outputs": [
    {
     "data": {
      "text/html": [
       "<div>\n",
       "<style>\n",
       "    .dataframe thead tr:only-child th {\n",
       "        text-align: right;\n",
       "    }\n",
       "\n",
       "    .dataframe thead th {\n",
       "        text-align: left;\n",
       "    }\n",
       "\n",
       "    .dataframe tbody tr th {\n",
       "        vertical-align: top;\n",
       "    }\n",
       "</style>\n",
       "<table border=\"1\" class=\"dataframe\">\n",
       "  <thead>\n",
       "    <tr style=\"text-align: right;\">\n",
       "      <th></th>\n",
       "      <th>yhat</th>\n",
       "      <th>yhat_lower</th>\n",
       "      <th>yhat_upper</th>\n",
       "      <th>y</th>\n",
       "    </tr>\n",
       "    <tr>\n",
       "      <th>ds</th>\n",
       "      <th></th>\n",
       "      <th></th>\n",
       "      <th></th>\n",
       "      <th></th>\n",
       "    </tr>\n",
       "  </thead>\n",
       "  <tbody>\n",
       "    <tr>\n",
       "      <th>2017-06-16</th>\n",
       "      <td>3.383420e+06</td>\n",
       "      <td>3.232611e+06</td>\n",
       "      <td>3.533953e+06</td>\n",
       "      <td>3212762</td>\n",
       "    </tr>\n",
       "    <tr>\n",
       "      <th>2017-06-17</th>\n",
       "      <td>3.420175e+06</td>\n",
       "      <td>3.272220e+06</td>\n",
       "      <td>3.576612e+06</td>\n",
       "      <td>3312852</td>\n",
       "    </tr>\n",
       "    <tr>\n",
       "      <th>2017-06-18</th>\n",
       "      <td>3.427870e+06</td>\n",
       "      <td>3.283284e+06</td>\n",
       "      <td>3.573526e+06</td>\n",
       "      <td>3227893</td>\n",
       "    </tr>\n",
       "    <tr>\n",
       "      <th>2017-06-19</th>\n",
       "      <td>3.433423e+06</td>\n",
       "      <td>3.282959e+06</td>\n",
       "      <td>3.584672e+06</td>\n",
       "      <td>3142655</td>\n",
       "    </tr>\n",
       "    <tr>\n",
       "      <th>2017-06-20</th>\n",
       "      <td>3.458722e+06</td>\n",
       "      <td>3.306969e+06</td>\n",
       "      <td>3.606256e+06</td>\n",
       "      <td>3135387</td>\n",
       "    </tr>\n",
       "    <tr>\n",
       "      <th>2017-06-21</th>\n",
       "      <td>3.477677e+06</td>\n",
       "      <td>3.326052e+06</td>\n",
       "      <td>3.634103e+06</td>\n",
       "      <td>3248943</td>\n",
       "    </tr>\n",
       "    <tr>\n",
       "      <th>2017-06-22</th>\n",
       "      <td>3.485954e+06</td>\n",
       "      <td>3.331920e+06</td>\n",
       "      <td>3.645646e+06</td>\n",
       "      <td>3137143</td>\n",
       "    </tr>\n",
       "  </tbody>\n",
       "</table>\n",
       "</div>"
      ],
      "text/plain": [
       "                    yhat    yhat_lower    yhat_upper        y\n",
       "ds                                                           \n",
       "2017-06-16  3.383420e+06  3.232611e+06  3.533953e+06  3212762\n",
       "2017-06-17  3.420175e+06  3.272220e+06  3.576612e+06  3312852\n",
       "2017-06-18  3.427870e+06  3.283284e+06  3.573526e+06  3227893\n",
       "2017-06-19  3.433423e+06  3.282959e+06  3.584672e+06  3142655\n",
       "2017-06-20  3.458722e+06  3.306969e+06  3.606256e+06  3135387\n",
       "2017-06-21  3.477677e+06  3.326052e+06  3.634103e+06  3248943\n",
       "2017-06-22  3.485954e+06  3.331920e+06  3.645646e+06  3137143"
      ]
     },
     "execution_count": 143,
     "metadata": {},
     "output_type": "execute_result"
    }
   ],
   "source": [
    "cmp_df = forecast.set_index('ds')[['yhat', 'yhat_lower', 'yhat_upper']].join(df.set_index('ds'))\n",
    "cmp_df.tail(7)"
   ]
  },
  {
   "cell_type": "code",
   "execution_count": 121,
   "metadata": {},
   "outputs": [
    {
     "data": {
      "text/html": [
       "<div>\n",
       "<style>\n",
       "    .dataframe thead tr:only-child th {\n",
       "        text-align: right;\n",
       "    }\n",
       "\n",
       "    .dataframe thead th {\n",
       "        text-align: left;\n",
       "    }\n",
       "\n",
       "    .dataframe tbody tr th {\n",
       "        vertical-align: top;\n",
       "    }\n",
       "</style>\n",
       "<table border=\"1\" class=\"dataframe\">\n",
       "  <thead>\n",
       "    <tr style=\"text-align: right;\">\n",
       "      <th></th>\n",
       "      <th>y</th>\n",
       "      <th>ds</th>\n",
       "    </tr>\n",
       "  </thead>\n",
       "  <tbody>\n",
       "    <tr>\n",
       "      <th>0</th>\n",
       "      <td>3097255</td>\n",
       "      <td>2017-06-16</td>\n",
       "    </tr>\n",
       "    <tr>\n",
       "      <th>1</th>\n",
       "      <td>3136083</td>\n",
       "      <td>2017-06-17</td>\n",
       "    </tr>\n",
       "    <tr>\n",
       "      <th>2</th>\n",
       "      <td>3129383</td>\n",
       "      <td>2017-06-18</td>\n",
       "    </tr>\n",
       "    <tr>\n",
       "      <th>3</th>\n",
       "      <td>3087740</td>\n",
       "      <td>2017-06-19</td>\n",
       "    </tr>\n",
       "    <tr>\n",
       "      <th>4</th>\n",
       "      <td>3240035</td>\n",
       "      <td>2017-06-20</td>\n",
       "    </tr>\n",
       "    <tr>\n",
       "      <th>5</th>\n",
       "      <td>3206386</td>\n",
       "      <td>2017-06-21</td>\n",
       "    </tr>\n",
       "    <tr>\n",
       "      <th>6</th>\n",
       "      <td>3133730</td>\n",
       "      <td>2017-06-22</td>\n",
       "    </tr>\n",
       "  </tbody>\n",
       "</table>\n",
       "</div>"
      ],
      "text/plain": [
       "         y          ds\n",
       "0  3097255  2017-06-16\n",
       "1  3136083  2017-06-17\n",
       "2  3129383  2017-06-18\n",
       "3  3087740  2017-06-19\n",
       "4  3240035  2017-06-20\n",
       "5  3206386  2017-06-21\n",
       "6  3133730  2017-06-22"
      ]
     },
     "execution_count": 121,
     "metadata": {},
     "output_type": "execute_result"
    }
   ],
   "source": [
    "qwe=cmp_df.yhat[-7:]    \n",
    "#print(qwe)\n",
    "\n",
    "pp=pd.DataFrame(columns=['y','ds'])\n",
    "pp['ds']=qwe.index.astype(str)\n",
    "pp.y=qwe.values\n",
    "pp.y=pp.y.astype(int)\n",
    "pp"
   ]
  },
  {
   "cell_type": "code",
   "execution_count": 122,
   "metadata": {},
   "outputs": [
    {
     "data": {
      "text/html": [
       "<div>\n",
       "<style>\n",
       "    .dataframe thead tr:only-child th {\n",
       "        text-align: right;\n",
       "    }\n",
       "\n",
       "    .dataframe thead th {\n",
       "        text-align: left;\n",
       "    }\n",
       "\n",
       "    .dataframe tbody tr th {\n",
       "        vertical-align: top;\n",
       "    }\n",
       "</style>\n",
       "<table border=\"1\" class=\"dataframe\">\n",
       "  <thead>\n",
       "    <tr style=\"text-align: right;\">\n",
       "      <th></th>\n",
       "      <th>y</th>\n",
       "      <th>ds</th>\n",
       "    </tr>\n",
       "  </thead>\n",
       "  <tbody>\n",
       "    <tr>\n",
       "      <th>261</th>\n",
       "      <td>3196091</td>\n",
       "      <td>2017-06-11</td>\n",
       "    </tr>\n",
       "    <tr>\n",
       "      <th>262</th>\n",
       "      <td>3369791</td>\n",
       "      <td>2017-06-12</td>\n",
       "    </tr>\n",
       "    <tr>\n",
       "      <th>263</th>\n",
       "      <td>3311636</td>\n",
       "      <td>2017-06-13</td>\n",
       "    </tr>\n",
       "    <tr>\n",
       "      <th>264</th>\n",
       "      <td>3308667</td>\n",
       "      <td>2017-06-14</td>\n",
       "    </tr>\n",
       "    <tr>\n",
       "      <th>265</th>\n",
       "      <td>3269308</td>\n",
       "      <td>2017-06-15</td>\n",
       "    </tr>\n",
       "  </tbody>\n",
       "</table>\n",
       "</div>"
      ],
      "text/plain": [
       "           y         ds\n",
       "261  3196091 2017-06-11\n",
       "262  3369791 2017-06-12\n",
       "263  3311636 2017-06-13\n",
       "264  3308667 2017-06-14\n",
       "265  3269308 2017-06-15"
      ]
     },
     "execution_count": 122,
     "metadata": {},
     "output_type": "execute_result"
    }
   ],
   "source": [
    "df_new=train_df\n",
    "df_new.tail()"
   ]
  },
  {
   "cell_type": "code",
   "execution_count": null,
   "metadata": {},
   "outputs": [],
   "source": []
  },
  {
   "cell_type": "code",
   "execution_count": 124,
   "metadata": {},
   "outputs": [
    {
     "data": {
      "text/html": [
       "<div>\n",
       "<style>\n",
       "    .dataframe thead tr:only-child th {\n",
       "        text-align: right;\n",
       "    }\n",
       "\n",
       "    .dataframe thead th {\n",
       "        text-align: left;\n",
       "    }\n",
       "\n",
       "    .dataframe tbody tr th {\n",
       "        vertical-align: top;\n",
       "    }\n",
       "</style>\n",
       "<table border=\"1\" class=\"dataframe\">\n",
       "  <thead>\n",
       "    <tr style=\"text-align: right;\">\n",
       "      <th></th>\n",
       "      <th>y</th>\n",
       "      <th>ds</th>\n",
       "    </tr>\n",
       "  </thead>\n",
       "  <tbody>\n",
       "    <tr>\n",
       "      <th>12</th>\n",
       "      <td>3311636</td>\n",
       "      <td>2017-06-13 00:00:00</td>\n",
       "    </tr>\n",
       "    <tr>\n",
       "      <th>13</th>\n",
       "      <td>3308667</td>\n",
       "      <td>2017-06-14 00:00:00</td>\n",
       "    </tr>\n",
       "    <tr>\n",
       "      <th>14</th>\n",
       "      <td>3269308</td>\n",
       "      <td>2017-06-15 00:00:00</td>\n",
       "    </tr>\n",
       "    <tr>\n",
       "      <th>15</th>\n",
       "      <td>3097255</td>\n",
       "      <td>2017-06-16</td>\n",
       "    </tr>\n",
       "    <tr>\n",
       "      <th>16</th>\n",
       "      <td>3136083</td>\n",
       "      <td>2017-06-17</td>\n",
       "    </tr>\n",
       "    <tr>\n",
       "      <th>17</th>\n",
       "      <td>3129383</td>\n",
       "      <td>2017-06-18</td>\n",
       "    </tr>\n",
       "    <tr>\n",
       "      <th>18</th>\n",
       "      <td>3087740</td>\n",
       "      <td>2017-06-19</td>\n",
       "    </tr>\n",
       "    <tr>\n",
       "      <th>19</th>\n",
       "      <td>3240035</td>\n",
       "      <td>2017-06-20</td>\n",
       "    </tr>\n",
       "    <tr>\n",
       "      <th>20</th>\n",
       "      <td>3206386</td>\n",
       "      <td>2017-06-21</td>\n",
       "    </tr>\n",
       "    <tr>\n",
       "      <th>21</th>\n",
       "      <td>3133730</td>\n",
       "      <td>2017-06-22</td>\n",
       "    </tr>\n",
       "  </tbody>\n",
       "</table>\n",
       "</div>"
      ],
      "text/plain": [
       "          y                   ds\n",
       "12  3311636  2017-06-13 00:00:00\n",
       "13  3308667  2017-06-14 00:00:00\n",
       "14  3269308  2017-06-15 00:00:00\n",
       "15  3097255           2017-06-16\n",
       "16  3136083           2017-06-17\n",
       "17  3129383           2017-06-18\n",
       "18  3087740           2017-06-19\n",
       "19  3240035           2017-06-20\n",
       "20  3206386           2017-06-21\n",
       "21  3133730           2017-06-22"
      ]
     },
     "execution_count": 124,
     "metadata": {},
     "output_type": "execute_result"
    }
   ],
   "source": [
    "df_new=df_new.append(pp,ignore_index=True)\n",
    "df_new.tail(10)"
   ]
  },
  {
   "cell_type": "code",
   "execution_count": 125,
   "metadata": {},
   "outputs": [
    {
     "name": "stdout",
     "output_type": "stream",
     "text": [
      "Disabling yearly seasonality. Run prophet with yearly_seasonality=True to override this.\n",
      "Wall time: 1.99 s\n"
     ]
    }
   ],
   "source": [
    "%%time\n",
    "m = Prophet()\n",
    "m.fit(df_new)\n",
    "future = m.make_future_dataframe(periods=7)\n",
    "forecast = m.predict(future)\n",
    "future.tail(7)"
   ]
  },
  {
   "cell_type": "code",
   "execution_count": 126,
   "metadata": {},
   "outputs": [
    {
     "data": {
      "text/html": [
       "<div>\n",
       "<style>\n",
       "    .dataframe thead tr:only-child th {\n",
       "        text-align: right;\n",
       "    }\n",
       "\n",
       "    .dataframe thead th {\n",
       "        text-align: left;\n",
       "    }\n",
       "\n",
       "    .dataframe tbody tr th {\n",
       "        vertical-align: top;\n",
       "    }\n",
       "</style>\n",
       "<table border=\"1\" class=\"dataframe\">\n",
       "  <thead>\n",
       "    <tr style=\"text-align: right;\">\n",
       "      <th></th>\n",
       "      <th>yhat</th>\n",
       "      <th>yhat_lower</th>\n",
       "      <th>yhat_upper</th>\n",
       "      <th>y</th>\n",
       "    </tr>\n",
       "    <tr>\n",
       "      <th>ds</th>\n",
       "      <th></th>\n",
       "      <th></th>\n",
       "      <th></th>\n",
       "      <th></th>\n",
       "    </tr>\n",
       "  </thead>\n",
       "  <tbody>\n",
       "    <tr>\n",
       "      <th>2017-06-23</th>\n",
       "      <td>2.948646e+06</td>\n",
       "      <td>2.871044e+06</td>\n",
       "      <td>3.026023e+06</td>\n",
       "      <td>NaN</td>\n",
       "    </tr>\n",
       "    <tr>\n",
       "      <th>2017-06-24</th>\n",
       "      <td>2.987141e+06</td>\n",
       "      <td>2.909318e+06</td>\n",
       "      <td>3.069214e+06</td>\n",
       "      <td>NaN</td>\n",
       "    </tr>\n",
       "    <tr>\n",
       "      <th>2017-06-25</th>\n",
       "      <td>2.981143e+06</td>\n",
       "      <td>2.899615e+06</td>\n",
       "      <td>3.061322e+06</td>\n",
       "      <td>NaN</td>\n",
       "    </tr>\n",
       "    <tr>\n",
       "      <th>2017-06-26</th>\n",
       "      <td>2.939954e+06</td>\n",
       "      <td>2.859732e+06</td>\n",
       "      <td>3.018517e+06</td>\n",
       "      <td>NaN</td>\n",
       "    </tr>\n",
       "    <tr>\n",
       "      <th>2017-06-27</th>\n",
       "      <td>3.093834e+06</td>\n",
       "      <td>3.008773e+06</td>\n",
       "      <td>3.176259e+06</td>\n",
       "      <td>NaN</td>\n",
       "    </tr>\n",
       "    <tr>\n",
       "      <th>2017-06-28</th>\n",
       "      <td>3.061287e+06</td>\n",
       "      <td>2.975877e+06</td>\n",
       "      <td>3.146325e+06</td>\n",
       "      <td>NaN</td>\n",
       "    </tr>\n",
       "    <tr>\n",
       "      <th>2017-06-29</th>\n",
       "      <td>2.986164e+06</td>\n",
       "      <td>2.905922e+06</td>\n",
       "      <td>3.074350e+06</td>\n",
       "      <td>NaN</td>\n",
       "    </tr>\n",
       "  </tbody>\n",
       "</table>\n",
       "</div>"
      ],
      "text/plain": [
       "                    yhat    yhat_lower    yhat_upper   y\n",
       "ds                                                      \n",
       "2017-06-23  2.948646e+06  2.871044e+06  3.026023e+06 NaN\n",
       "2017-06-24  2.987141e+06  2.909318e+06  3.069214e+06 NaN\n",
       "2017-06-25  2.981143e+06  2.899615e+06  3.061322e+06 NaN\n",
       "2017-06-26  2.939954e+06  2.859732e+06  3.018517e+06 NaN\n",
       "2017-06-27  3.093834e+06  3.008773e+06  3.176259e+06 NaN\n",
       "2017-06-28  3.061287e+06  2.975877e+06  3.146325e+06 NaN\n",
       "2017-06-29  2.986164e+06  2.905922e+06  3.074350e+06 NaN"
      ]
     },
     "execution_count": 126,
     "metadata": {},
     "output_type": "execute_result"
    }
   ],
   "source": [
    "cmp_df_new = forecast.set_index('ds')[['yhat', 'yhat_lower', 'yhat_upper']].join(df.set_index('ds'))\n",
    "cmp_df_new.tail(7)"
   ]
  },
  {
   "cell_type": "code",
   "execution_count": null,
   "metadata": {},
   "outputs": [],
   "source": []
  },
  {
   "cell_type": "markdown",
   "metadata": {},
   "source": [
    "---"
   ]
  },
  {
   "cell_type": "code",
   "execution_count": 146,
   "metadata": {},
   "outputs": [
    {
     "data": {
      "text/html": [
       "<div>\n",
       "<style>\n",
       "    .dataframe thead tr:only-child th {\n",
       "        text-align: right;\n",
       "    }\n",
       "\n",
       "    .dataframe thead th {\n",
       "        text-align: left;\n",
       "    }\n",
       "\n",
       "    .dataframe tbody tr th {\n",
       "        vertical-align: top;\n",
       "    }\n",
       "</style>\n",
       "<table border=\"1\" class=\"dataframe\">\n",
       "  <thead>\n",
       "    <tr style=\"text-align: right;\">\n",
       "      <th></th>\n",
       "      <th>y</th>\n",
       "      <th>player_id</th>\n",
       "      <th>ds</th>\n",
       "    </tr>\n",
       "  </thead>\n",
       "  <tbody>\n",
       "    <tr>\n",
       "      <th>131</th>\n",
       "      <td>5700917</td>\n",
       "      <td>1</td>\n",
       "      <td>2017-02-01</td>\n",
       "    </tr>\n",
       "    <tr>\n",
       "      <th>132</th>\n",
       "      <td>5577531</td>\n",
       "      <td>1</td>\n",
       "      <td>2017-02-02</td>\n",
       "    </tr>\n",
       "    <tr>\n",
       "      <th>133</th>\n",
       "      <td>5512164</td>\n",
       "      <td>1</td>\n",
       "      <td>2017-02-03</td>\n",
       "    </tr>\n",
       "    <tr>\n",
       "      <th>134</th>\n",
       "      <td>5692598</td>\n",
       "      <td>1</td>\n",
       "      <td>2017-02-04</td>\n",
       "    </tr>\n",
       "    <tr>\n",
       "      <th>135</th>\n",
       "      <td>5602358</td>\n",
       "      <td>1</td>\n",
       "      <td>2017-02-05</td>\n",
       "    </tr>\n",
       "  </tbody>\n",
       "</table>\n",
       "</div>"
      ],
      "text/plain": [
       "           y  player_id         ds\n",
       "131  5700917          1 2017-02-01\n",
       "132  5577531          1 2017-02-02\n",
       "133  5512164          1 2017-02-03\n",
       "134  5692598          1 2017-02-04\n",
       "135  5602358          1 2017-02-05"
      ]
     },
     "execution_count": 146,
     "metadata": {},
     "output_type": "execute_result"
    }
   ],
   "source": [
    "df_all = pd.read_csv('data/player_price.csv')\n",
    "df_all['ds'] = pd.to_datetime(df_all['timestamp'], unit='ms')\n",
    "df_all=df_all[df_all.ds>='2017-02-01']\n",
    "df_all.drop([\"timestamp\", \"ps_price\", \"player_name\"], axis=1, inplace=True)\n",
    "df_all.rename(columns={\"xbox_price\": \"y\"}, inplace=True)\n",
    "\n",
    "df_all.head()"
   ]
  },
  {
   "cell_type": "code",
   "execution_count": 147,
   "metadata": {},
   "outputs": [],
   "source": [
    "#id-шники для предикшина\n",
    "sample_subm = pd.read_csv('data/kaggle_sample_submission.csv')\n",
    "sample_subm[\"player_id\"] = sample_subm[\"id\"].apply(lambda x: int(x.split(\"_\")[0]))\n",
    "player_id=sample_subm.groupby(['player_id'])['price'].count()\n",
    "#player_id.index"
   ]
  },
  {
   "cell_type": "code",
   "execution_count": null,
   "metadata": {
    "collapsed": true
   },
   "outputs": [],
   "source": []
  },
  {
   "cell_type": "code",
   "execution_count": 157,
   "metadata": {},
   "outputs": [
    {
     "name": "stdout",
     "output_type": "stream",
     "text": [
      "==================================\n",
      "id=1\n",
      "Disabling yearly seasonality. Run prophet with yearly_seasonality=True to override this.\n",
      "rmse:  251768.789117\n",
      "Disabling yearly seasonality. Run prophet with yearly_seasonality=True to override this.\n",
      "             id    price\n",
      "0  1_2017-06-23  3496383\n",
      "1  1_2017-06-24  3522347\n",
      "2  1_2017-06-25  3533008\n",
      "3  1_2017-06-26  3544336\n",
      "4  1_2017-06-27  3580401\n",
      "5  1_2017-06-28  3588784\n",
      "6  1_2017-06-29  3599955\n",
      "==================================\n",
      "id=2\n",
      "Disabling yearly seasonality. Run prophet with yearly_seasonality=True to override this.\n",
      "rmse:  50920.9698483\n",
      "Disabling yearly seasonality. Run prophet with yearly_seasonality=True to override this.\n",
      "             id   price\n",
      "0  2_2017-06-23  839224\n",
      "1  2_2017-06-24  825889\n",
      "2  2_2017-06-25  827267\n",
      "3  2_2017-06-26  835669\n",
      "4  2_2017-06-27  839934\n",
      "5  2_2017-06-28  847413\n",
      "6  2_2017-06-29  852226\n",
      "Wall time: 9.7 s\n"
     ]
    }
   ],
   "source": [
    "%%time\n",
    "k=0\n",
    "for i in range(1,3):#player_id.index[350:len(player_id.index)]:#player_id.index\n",
    "    print('==================================')\n",
    "    print('id={}'.format(i))\n",
    "       \n",
    "    df=df_all.loc[df_all['player_id'] == i]\n",
    "    df.drop(['player_id'], axis=1, inplace=True)\n",
    "    df=df.replace(0,1)    \n",
    "    \n",
    "    #validation (1 fold)\n",
    "    predictions = 7\n",
    "    trainFirst_df = df[:-predictions]    \n",
    "    \n",
    "    m = Prophet()\n",
    "    m.fit(trainFirst_df)    \n",
    "    future_validation = m.make_future_dataframe(periods=predictions)\n",
    "    forecast_validation = m.predict(future_validation)    \n",
    "    \n",
    "    cmp_validation_df = forecast_validation.set_index('ds')[['yhat', 'yhat_lower', 'yhat_upper']].join(df.set_index('ds'))\n",
    "    qwe_validation=cmp_validation_df.yhat[-predictions:]    \n",
    "    #print(qwe)\n",
    "    print('rmse: ',mean_squared_error(df.y[-7:], cmp_validation_df.yhat[-7:])**0.5)\n",
    "    \n",
    "    pp_validation=pd.DataFrame(columns=['y','ds'])\n",
    "    pp_validation['ds']=qwe_validation.index.astype(str)\n",
    "    pp_validation.y=qwe_validation.values\n",
    "    pp_validation.y=pp_validation.y.astype(int)\n",
    "    \n",
    "    train_1Fold_df=trainFirst_df[7:]\n",
    "    train_1Fold_df=train_1Fold_df.append(pp_validation,ignore_index=True)\n",
    "    \n",
    "    #prediction for 7 day\n",
    "    m = Prophet()\n",
    "    m.fit(train_1Fold_df)\n",
    "    \n",
    "    future = m.make_future_dataframe(periods=7)\n",
    "    forecast = m.predict(future)\n",
    "        \n",
    "    cmp_df = forecast.set_index('ds')[['yhat', 'yhat_lower', 'yhat_upper']].join(train_1Fold_df.set_index('ds'))\n",
    "    \n",
    "    qwe=cmp_df.yhat[-7:]    \n",
    "    #print(qwe)\n",
    "    \n",
    "    pp=pd.DataFrame(columns=['id','price'])\n",
    "    pp['id']=str(i)+'_'+qwe.index.astype(str)\n",
    "    pp.price=qwe.values\n",
    "    pp.price=pp.price.astype(int)\n",
    "    print(pp)\n",
    "    \n",
    "    if k==0:\n",
    "        pp.to_csv('csv/prediction_fbpophet9.csv',sep=',',header=True,index=False)\n",
    "        k=1\n",
    "    else:\n",
    "        with open('csv/prediction_fbpophet9.csv', 'a') as f:\n",
    "            pp.to_csv(f, header=False,index=False,sep=',')"
   ]
  },
  {
   "cell_type": "code",
   "execution_count": null,
   "metadata": {
    "collapsed": true
   },
   "outputs": [],
   "source": []
  },
  {
   "cell_type": "code",
   "execution_count": null,
   "metadata": {
    "collapsed": true
   },
   "outputs": [],
   "source": []
  },
  {
   "cell_type": "code",
   "execution_count": null,
   "metadata": {},
   "outputs": [],
   "source": []
  },
  {
   "cell_type": "code",
   "execution_count": null,
   "metadata": {
    "collapsed": true
   },
   "outputs": [],
   "source": []
  },
  {
   "cell_type": "code",
   "execution_count": null,
   "metadata": {
    "collapsed": true
   },
   "outputs": [],
   "source": []
  },
  {
   "cell_type": "code",
   "execution_count": null,
   "metadata": {
    "collapsed": true
   },
   "outputs": [],
   "source": []
  },
  {
   "cell_type": "code",
   "execution_count": null,
   "metadata": {
    "collapsed": true
   },
   "outputs": [],
   "source": []
  }
 ],
 "metadata": {
  "kernelspec": {
   "display_name": "Python 3",
   "language": "python",
   "name": "python3"
  },
  "language_info": {
   "codemirror_mode": {
    "name": "ipython",
    "version": 3
   },
   "file_extension": ".py",
   "mimetype": "text/x-python",
   "name": "python",
   "nbconvert_exporter": "python",
   "pygments_lexer": "ipython3",
   "version": "3.6.1"
  },
  "varInspector": {
   "cols": {
    "lenName": 16,
    "lenType": 16,
    "lenVar": 40
   },
   "kernels_config": {
    "python": {
     "delete_cmd_postfix": "",
     "delete_cmd_prefix": "del ",
     "library": "var_list.py",
     "varRefreshCmd": "print(var_dic_list())"
    },
    "r": {
     "delete_cmd_postfix": ") ",
     "delete_cmd_prefix": "rm(",
     "library": "var_list.r",
     "varRefreshCmd": "cat(var_dic_list()) "
    }
   },
   "oldHeight": 522,
   "position": {
    "height": "544px",
    "left": "996px",
    "right": "20px",
    "top": "120px",
    "width": "350px"
   },
   "types_to_exclude": [
    "module",
    "function",
    "builtin_function_or_method",
    "instance",
    "_Feature"
   ],
   "varInspector_section_display": "block",
   "window_display": false
  }
 },
 "nbformat": 4,
 "nbformat_minor": 2
}
