{
 "cells": [
  {
   "cell_type": "code",
   "execution_count": 158,
   "metadata": {},
   "outputs": [],
   "source": [
    "import warnings\n",
    "warnings.filterwarnings(\"ignore\")\n",
    "\n",
    "import pandas as pd\n",
    "import matplotlib.pyplot as plt\n",
    "from matplotlib import pyplot as plt\n",
    "\n",
    "import numpy as np\n",
    "import matplotlib.pyplot as plt\n",
    "import pandas\n",
    "import math\n",
    "from sklearn.preprocessing import MinMaxScaler\n",
    "from sklearn.metrics import mean_squared_error\n",
    "from sklearn.metrics import mean_absolute_error\n",
    "from sklearn.linear_model import LinearRegression"
   ]
  },
  {
   "cell_type": "code",
   "execution_count": 76,
   "metadata": {},
   "outputs": [
    {
     "data": {
      "text/plain": [
       "(980252, 4)"
      ]
     },
     "execution_count": 76,
     "metadata": {},
     "output_type": "execute_result"
    }
   ],
   "source": [
    "df_price = pd.read_csv('data/player_price.csv')\n",
    "df_stats = pd.read_csv('data/player_stats.csv')\n",
    "sample_subm = pd.read_csv('data/kaggle_sample_submission.csv')\n",
    "\n",
    "sample_subm[\"player_id\"] = sample_subm[\"id\"].apply(lambda x: int(x.split(\"_\")[0]))\n",
    "sample_subm[\"Date\"] = sample_subm[\"id\"].apply(lambda x: np.datetime64(x.split(\"_\")[1]))\n",
    "\n",
    "#player_id=df_price.groupby(['player_id'])['xbox_price'].count()\n",
    "player_id=sample_subm.groupby(['player_id'])['price'].count()\n",
    "\n",
    "#df_price=df_price[df_price.player_id<=18320]\n",
    "df_price['Date'] = pd.to_datetime(df_price['timestamp'], unit='ms')\n",
    "df_price.drop(['timestamp'], axis=1, inplace=True)\n",
    "df_price.drop(['ps_price'],axis = 1, inplace=True)\n",
    "df_price.rename(columns={'xbox_price':'price'}, inplace = True)\n",
    "\n",
    "df_merge=df_stats[[\"player_id\"]].merge(df_price, on=['player_id'], how='inner')\n",
    "\n",
    "df_merge.shape"
   ]
  },
  {
   "cell_type": "code",
   "execution_count": 172,
   "metadata": {
    "collapsed": true
   },
   "outputs": [],
   "source": [
    "def mape(y_pred,y_true):\n",
    "    return np.mean(np.abs((y_true - y_pred) / y_true)) * 100"
   ]
  },
  {
   "cell_type": "code",
   "execution_count": 77,
   "metadata": {
    "scrolled": true
   },
   "outputs": [
    {
     "data": {
      "text/html": [
       "<div>\n",
       "<style>\n",
       "    .dataframe thead tr:only-child th {\n",
       "        text-align: right;\n",
       "    }\n",
       "\n",
       "    .dataframe thead th {\n",
       "        text-align: left;\n",
       "    }\n",
       "\n",
       "    .dataframe tbody tr th {\n",
       "        vertical-align: top;\n",
       "    }\n",
       "</style>\n",
       "<table border=\"1\" class=\"dataframe\">\n",
       "  <thead>\n",
       "    <tr style=\"text-align: right;\">\n",
       "      <th></th>\n",
       "      <th>player_id</th>\n",
       "      <th>price</th>\n",
       "      <th>player_name</th>\n",
       "      <th>Date</th>\n",
       "    </tr>\n",
       "  </thead>\n",
       "  <tbody>\n",
       "    <tr>\n",
       "      <th>241</th>\n",
       "      <td>1</td>\n",
       "      <td>2971810</td>\n",
       "      <td>Pelé</td>\n",
       "      <td>2017-05-22</td>\n",
       "    </tr>\n",
       "    <tr>\n",
       "      <th>242</th>\n",
       "      <td>1</td>\n",
       "      <td>2925575</td>\n",
       "      <td>Pelé</td>\n",
       "      <td>2017-05-23</td>\n",
       "    </tr>\n",
       "    <tr>\n",
       "      <th>243</th>\n",
       "      <td>1</td>\n",
       "      <td>2909955</td>\n",
       "      <td>Pelé</td>\n",
       "      <td>2017-05-24</td>\n",
       "    </tr>\n",
       "    <tr>\n",
       "      <th>244</th>\n",
       "      <td>1</td>\n",
       "      <td>2918560</td>\n",
       "      <td>Pelé</td>\n",
       "      <td>2017-05-25</td>\n",
       "    </tr>\n",
       "    <tr>\n",
       "      <th>245</th>\n",
       "      <td>1</td>\n",
       "      <td>2974671</td>\n",
       "      <td>Pelé</td>\n",
       "      <td>2017-05-26</td>\n",
       "    </tr>\n",
       "  </tbody>\n",
       "</table>\n",
       "</div>"
      ],
      "text/plain": [
       "     player_id    price player_name       Date\n",
       "241          1  2971810        Pelé 2017-05-22\n",
       "242          1  2925575        Pelé 2017-05-23\n",
       "243          1  2909955        Pelé 2017-05-24\n",
       "244          1  2918560        Pelé 2017-05-25\n",
       "245          1  2974671        Pelé 2017-05-26"
      ]
     },
     "execution_count": 77,
     "metadata": {},
     "output_type": "execute_result"
    }
   ],
   "source": [
    "df_new_data=df_merge[df_merge.Date>='2017-05-22']\n",
    "df_new_data.head()"
   ]
  },
  {
   "cell_type": "code",
   "execution_count": 254,
   "metadata": {
    "scrolled": true
   },
   "outputs": [
    {
     "name": "stdout",
     "output_type": "stream",
     "text": [
      "(32, 4)\n"
     ]
    },
    {
     "data": {
      "text/html": [
       "<div>\n",
       "<style>\n",
       "    .dataframe thead tr:only-child th {\n",
       "        text-align: right;\n",
       "    }\n",
       "\n",
       "    .dataframe thead th {\n",
       "        text-align: left;\n",
       "    }\n",
       "\n",
       "    .dataframe tbody tr th {\n",
       "        vertical-align: top;\n",
       "    }\n",
       "</style>\n",
       "<table border=\"1\" class=\"dataframe\">\n",
       "  <thead>\n",
       "    <tr style=\"text-align: right;\">\n",
       "      <th></th>\n",
       "      <th>player_id</th>\n",
       "      <th>price</th>\n",
       "      <th>player_name</th>\n",
       "      <th>Date</th>\n",
       "    </tr>\n",
       "  </thead>\n",
       "  <tbody>\n",
       "    <tr>\n",
       "      <th>266</th>\n",
       "      <td>1</td>\n",
       "      <td>3212762</td>\n",
       "      <td>Pelé</td>\n",
       "      <td>2017-06-16</td>\n",
       "    </tr>\n",
       "    <tr>\n",
       "      <th>267</th>\n",
       "      <td>1</td>\n",
       "      <td>3312852</td>\n",
       "      <td>Pelé</td>\n",
       "      <td>2017-06-17</td>\n",
       "    </tr>\n",
       "    <tr>\n",
       "      <th>268</th>\n",
       "      <td>1</td>\n",
       "      <td>3227893</td>\n",
       "      <td>Pelé</td>\n",
       "      <td>2017-06-18</td>\n",
       "    </tr>\n",
       "    <tr>\n",
       "      <th>269</th>\n",
       "      <td>1</td>\n",
       "      <td>3142655</td>\n",
       "      <td>Pelé</td>\n",
       "      <td>2017-06-19</td>\n",
       "    </tr>\n",
       "    <tr>\n",
       "      <th>270</th>\n",
       "      <td>1</td>\n",
       "      <td>3135387</td>\n",
       "      <td>Pelé</td>\n",
       "      <td>2017-06-20</td>\n",
       "    </tr>\n",
       "    <tr>\n",
       "      <th>271</th>\n",
       "      <td>1</td>\n",
       "      <td>3248943</td>\n",
       "      <td>Pelé</td>\n",
       "      <td>2017-06-21</td>\n",
       "    </tr>\n",
       "    <tr>\n",
       "      <th>272</th>\n",
       "      <td>1</td>\n",
       "      <td>3137143</td>\n",
       "      <td>Pelé</td>\n",
       "      <td>2017-06-22</td>\n",
       "    </tr>\n",
       "  </tbody>\n",
       "</table>\n",
       "</div>"
      ],
      "text/plain": [
       "     player_id    price player_name       Date\n",
       "266          1  3212762        Pelé 2017-06-16\n",
       "267          1  3312852        Pelé 2017-06-17\n",
       "268          1  3227893        Pelé 2017-06-18\n",
       "269          1  3142655        Pelé 2017-06-19\n",
       "270          1  3135387        Pelé 2017-06-20\n",
       "271          1  3248943        Pelé 2017-06-21\n",
       "272          1  3137143        Pelé 2017-06-22"
      ]
     },
     "execution_count": 254,
     "metadata": {},
     "output_type": "execute_result"
    }
   ],
   "source": [
    "df_new_data_player=df_new_data[df_new_data.player_id==1]\n",
    "print(df_new_data_player.shape)\n",
    "df_new_data_player.tail(7)"
   ]
  },
  {
   "cell_type": "code",
   "execution_count": 255,
   "metadata": {},
   "outputs": [
    {
     "name": "stdout",
     "output_type": "stream",
     "text": [
      "(32, 1)\n"
     ]
    },
    {
     "data": {
      "text/html": [
       "<div>\n",
       "<style>\n",
       "    .dataframe thead tr:only-child th {\n",
       "        text-align: right;\n",
       "    }\n",
       "\n",
       "    .dataframe thead th {\n",
       "        text-align: left;\n",
       "    }\n",
       "\n",
       "    .dataframe tbody tr th {\n",
       "        vertical-align: top;\n",
       "    }\n",
       "</style>\n",
       "<table border=\"1\" class=\"dataframe\">\n",
       "  <thead>\n",
       "    <tr style=\"text-align: right;\">\n",
       "      <th></th>\n",
       "      <th>y</th>\n",
       "    </tr>\n",
       "    <tr>\n",
       "      <th>ds</th>\n",
       "      <th></th>\n",
       "    </tr>\n",
       "  </thead>\n",
       "  <tbody>\n",
       "    <tr>\n",
       "      <th>2017-06-18</th>\n",
       "      <td>3227893</td>\n",
       "    </tr>\n",
       "    <tr>\n",
       "      <th>2017-06-19</th>\n",
       "      <td>3142655</td>\n",
       "    </tr>\n",
       "    <tr>\n",
       "      <th>2017-06-20</th>\n",
       "      <td>3135387</td>\n",
       "    </tr>\n",
       "    <tr>\n",
       "      <th>2017-06-21</th>\n",
       "      <td>3248943</td>\n",
       "    </tr>\n",
       "    <tr>\n",
       "      <th>2017-06-22</th>\n",
       "      <td>3137143</td>\n",
       "    </tr>\n",
       "  </tbody>\n",
       "</table>\n",
       "</div>"
      ],
      "text/plain": [
       "                  y\n",
       "ds                 \n",
       "2017-06-18  3227893\n",
       "2017-06-19  3142655\n",
       "2017-06-20  3135387\n",
       "2017-06-21  3248943\n",
       "2017-06-22  3137143"
      ]
     },
     "execution_count": 255,
     "metadata": {},
     "output_type": "execute_result"
    }
   ],
   "source": [
    "df=df_new_data_player[['Date','price']]\n",
    "df=df.groupby('Date')[['price']].mean()\n",
    "df=df.reset_index()\n",
    "df.columns = ['ds', 'y']\n",
    "df=df.set_index('ds')\n",
    "#df=df.replace(0,int(df.mean()))\n",
    "print(df.shape)\n",
    "df.tail()"
   ]
  },
  {
   "cell_type": "code",
   "execution_count": 299,
   "metadata": {},
   "outputs": [],
   "source": [
    "data=df\n",
    "x_data = []\n",
    "y_data = []\n",
    "\n",
    "for d in range(1,data.shape[0]):\n",
    "    x = data.iloc[d-1:d].values.ravel()\n",
    "    y = data.iloc[d].values[0]\n",
    "    x_data.append(x)\n",
    "    y_data.append(y)"
   ]
  },
  {
   "cell_type": "code",
   "execution_count": 300,
   "metadata": {},
   "outputs": [],
   "source": [
    "x_data = np.array(x_data)\n",
    "y_data = np.array(y_data)"
   ]
  },
  {
   "cell_type": "code",
   "execution_count": null,
   "metadata": {},
   "outputs": [],
   "source": []
  },
  {
   "cell_type": "code",
   "execution_count": 301,
   "metadata": {
    "collapsed": true
   },
   "outputs": [],
   "source": [
    "#Lists to store the predictions of the models\n",
    "y_pred = []\n",
    "y_pred_last = []\n",
    "y_pred_ma = []\n",
    "y_true = []"
   ]
  },
  {
   "cell_type": "code",
   "execution_count": 302,
   "metadata": {},
   "outputs": [
    {
     "data": {
      "text/plain": [
       "31"
      ]
     },
     "execution_count": 302,
     "metadata": {},
     "output_type": "execute_result"
    }
   ],
   "source": [
    "y_data.shape[0]"
   ]
  },
  {
   "cell_type": "code",
   "execution_count": 304,
   "metadata": {},
   "outputs": [],
   "source": [
    "#Iterate over the time series creating a new model each month\n",
    "end = y_data.shape[0]\n",
    "for i in range(1,end):\n",
    "\n",
    "    x_train = x_data[:i,:]\n",
    "    y_train = y_data[:i]\n",
    "    \n",
    "    x_test = x_data[i,:]\n",
    "    y_test = y_data[i]\n",
    "\n",
    "\n",
    "    model = LinearRegression(normalize=True)\n",
    "    model.fit(x_train,y_train)\n",
    "\n",
    "    y_pred.append(model.predict(x_test.reshape(1, -1))[0])\n",
    "    y_pred_last.append(x_test[-1])\n",
    "    y_pred_ma.append(x_test.mean())\n",
    "    y_true.append(y_test)"
   ]
  },
  {
   "cell_type": "code",
   "execution_count": null,
   "metadata": {
    "collapsed": true
   },
   "outputs": [],
   "source": [
    "#Transforms the lists into numpy arrays\n",
    "y_pred = np.array(y_pred)\n",
    "y_pred_last = np.array(y_pred_last)\n",
    "y_pred_ma = np.array(y_pred_ma)\n",
    "y_true = np.array(y_true)"
   ]
  },
  {
   "cell_type": "code",
   "execution_count": 284,
   "metadata": {},
   "outputs": [
    {
     "data": {
      "text/plain": [
       "array([ 2925575.        ,  2904677.95014599,  2915195.84903647,\n",
       "        2924820.97493499,  3113241.18708515,  2995511.45850376,\n",
       "        3107759.48364334,  3298953.79632395,  3250043.86363143,\n",
       "        3247048.74115689,  3117746.38199028,  3262980.68829778,\n",
       "        3369806.95997243,  3133344.5055112 ,  3481464.24656828,\n",
       "        3471427.30019038,  3489235.55058061,  3276321.85187395,\n",
       "        3252032.93395253,  3202368.41208494,  3339311.23206045,\n",
       "        3294093.85396615,  3292796.23943061,  3262545.90023535,\n",
       "        3218963.02338255,  3295834.80209656,  3230942.03670673,\n",
       "        3166317.28570351,  3159861.10566276,  3244575.00401561])"
      ]
     },
     "execution_count": 284,
     "metadata": {},
     "output_type": "execute_result"
    }
   ],
   "source": [
    "y_pred"
   ]
  },
  {
   "cell_type": "code",
   "execution_count": 285,
   "metadata": {
    "scrolled": true
   },
   "outputs": [
    {
     "name": "stdout",
     "output_type": "stream",
     "text": [
      "\n",
      "Mean Absolute Percentage Error\n",
      "MAPE Linear Regression 2.86171061392\n",
      "MAPE Last Value Benchmark 2.67817159762\n",
      "MAPE Moving Average Benchmark 2.67817159762\n",
      "\n",
      "Mean Absolute Error\n",
      "MAE Linear Regression 92844.9383636\n",
      "MAE Last Value Benchmark 87180.5333333\n",
      "MAE Moving Average Benchmark 87180.5333333\n"
     ]
    }
   ],
   "source": [
    "#Print errors\n",
    "print('\\nMean Absolute Percentage Error')\n",
    "print('MAPE Linear Regression', mape(y_pred,y_true))\n",
    "print('MAPE Last Value Benchmark', mape(y_pred_last,y_true))\n",
    "print('MAPE Moving Average Benchmark', mape(y_pred_ma,y_true))\n",
    "\n",
    "print('\\nMean Absolute Error')\n",
    "print('MAE Linear Regression', mean_absolute_error(y_pred,y_true))\n",
    "print('MAE Last Value Benchmark', mean_absolute_error(y_pred_last,y_true))\n",
    "print('MAE Moving Average Benchmark', mean_absolute_error(y_pred_ma,y_true))"
   ]
  },
  {
   "cell_type": "code",
   "execution_count": 286,
   "metadata": {},
   "outputs": [
    {
     "data": {
      "image/png": "[encoded data removed]",
      "text/plain": [
       "<matplotlib.figure.Figure at 0xa6022245f8>"
      ]
     },
     "metadata": {},
     "output_type": "display_data"
    }
   ],
   "source": [
    "reg_val, = plt.plot(y_pred,color='b',label=u'Linear Regression')\n",
    "true_val, = plt.plot(y_true,color='g', label='True Values')\n",
    "plt.xlim([0,30])\n",
    "plt.legend(handles=[true_val,reg_val])\n",
    "plt.show()"
   ]
  },
  {
   "cell_type": "code",
   "execution_count": null,
   "metadata": {
    "collapsed": true
   },
   "outputs": [],
   "source": []
  },
  {
   "cell_type": "code",
   "execution_count": null,
   "metadata": {
    "collapsed": true
   },
   "outputs": [],
   "source": []
  },
  {
   "cell_type": "code",
   "execution_count": null,
   "metadata": {
    "collapsed": true
   },
   "outputs": [],
   "source": []
  },
  {
   "cell_type": "code",
   "execution_count": null,
   "metadata": {
    "collapsed": true
   },
   "outputs": [],
   "source": []
  },
  {
   "cell_type": "code",
   "execution_count": 91,
   "metadata": {
    "collapsed": true
   },
   "outputs": [],
   "source": [
    "lr = LinearRegression(n_jobs=-1)"
   ]
  },
  {
   "cell_type": "code",
   "execution_count": 92,
   "metadata": {
    "collapsed": true
   },
   "outputs": [],
   "source": [
    "# reshape into X=t and Y=t+1\n",
    "look_back = 1\n",
    "trainX, trainY = create_dataset(train, look_back)\n",
    "testX, testY = create_dataset(test, look_back)"
   ]
  },
  {
   "cell_type": "code",
   "execution_count": 93,
   "metadata": {},
   "outputs": [],
   "source": [
    "models = []\n",
    "lr.fit(trainX,trainY)\n",
    "models.append(lr)"
   ]
  },
  {
   "cell_type": "code",
   "execution_count": 120,
   "metadata": {},
   "outputs": [
    {
     "data": {
      "text/plain": [
       "[LinearRegression(copy_X=True, fit_intercept=True, n_jobs=-1, normalize=False)]"
      ]
     },
     "execution_count": 120,
     "metadata": {},
     "output_type": "execute_result"
    }
   ],
   "source": [
    "models"
   ]
  },
  {
   "cell_type": "code",
   "execution_count": 94,
   "metadata": {
    "scrolled": true
   },
   "outputs": [
    {
     "data": {
      "text/plain": [
       "array([ 0.21458716,  0.16008438,  0.14167122,  0.15181503,  0.21795963,\n",
       "        0.33193138,  0.26077098,  0.38488724,  0.51175642,  0.50937043,\n",
       "        0.51599893,  0.38423076,  0.55885707,  0.66231244,  0.40352907,\n",
       "        0.87947569,  0.8477795 ,  0.85551621,  0.5895513 ,  0.55303387,\n",
       "        0.47897349,  0.68373394,  0.61517978])"
      ]
     },
     "execution_count": 94,
     "metadata": {},
     "output_type": "execute_result"
    }
   ],
   "source": [
    "trainPredict=models[0].predict(trainX)\n",
    "trainPredict"
   ]
  },
  {
   "cell_type": "code",
   "execution_count": 95,
   "metadata": {},
   "outputs": [
    {
     "data": {
      "text/plain": [
       "array([ 0.49862538,  0.61661341,  0.51646227,  0.41598218,  0.40741449])"
      ]
     },
     "execution_count": 95,
     "metadata": {},
     "output_type": "execute_result"
    }
   ],
   "source": [
    "testPredict = models[0].predict(testX)\n",
    "testPredict"
   ]
  },
  {
   "cell_type": "code",
   "execution_count": 96,
   "metadata": {},
   "outputs": [
    {
     "name": "stdout",
     "output_type": "stream",
     "text": [
      "[ 3044261.74261412  3010149.27134237  2998624.75209747  3004973.60882467\n",
      "  3046372.52333715  3117705.72591467  3073167.50399888  3150850.00369183\n",
      "  3230255.52228293  3228762.16583983  3232910.84303601  3150439.12148558\n",
      "  3259735.10951416  3324486.2698037   3162517.64910719  3460405.48708948\n",
      "  3440567.31908821  3445409.60772581  3278946.16469474  3256090.45663209\n",
      "  3209737.17468084  3337893.66886945  3294986.64490861]\n",
      "[[ 2925574.88748314  2909954.86176975  2918559.93268179  2974670.91618132\n",
      "   3071354.03456576  3010988.11762215  3116276.90380906  3223901.02381091\n",
      "   3221876.96835621  3227499.97467028  3115720.00503606  3263856.86932484\n",
      "   3351618.86331353  3132090.91891282  3535840.14177468  3508952.01848718\n",
      "   3515515.12723155  3289895.02063726  3258917.00411012  3196091.00325128\n",
      "   3369790.89406866  3311635.85928495  3308666.9262765 ]]\n"
     ]
    }
   ],
   "source": [
    "trainPredict = scaler.inverse_transform(trainPredict)\n",
    "trainY = scaler.inverse_transform([trainY])\n",
    "print(trainPredict)\n",
    "print(trainY)"
   ]
  },
  {
   "cell_type": "code",
   "execution_count": 97,
   "metadata": {},
   "outputs": [
    {
     "name": "stdout",
     "output_type": "stream",
     "text": [
      "[ 3222036.99738139  3295883.9359003   3233200.83867675  3170311.85996187\n",
      "  3164949.47284025]\n",
      "[[ 3312852.02354003  3227893.02701972  3142654.98422247  3135386.94787798\n",
      "   3248942.96499244]]\n"
     ]
    }
   ],
   "source": [
    "testPredict = scaler.inverse_transform(testPredict)\n",
    "testY = scaler.inverse_transform([testY])\n",
    "print(testPredict)\n",
    "print(testY)"
   ]
  },
  {
   "cell_type": "code",
   "execution_count": 100,
   "metadata": {
    "scrolled": true
   },
   "outputs": [
    {
     "name": "stdout",
     "output_type": "stream",
     "text": [
      "Train Score: 118837.25 RMSE\n",
      "Test Score: 76607.23 RMSE\n"
     ]
    }
   ],
   "source": [
    "trainScore = math.sqrt(mean_squared_error(trainY[0], trainPredict))\n",
    "print('Train Score: %.2f RMSE' % (trainScore))\n",
    "testScore = math.sqrt(mean_squared_error(testY[0], testPredict))\n",
    "print('Test Score: %.2f RMSE' % (testScore))"
   ]
  },
  {
   "cell_type": "code",
   "execution_count": 119,
   "metadata": {},
   "outputs": [
    {
     "ename": "ValueError",
     "evalue": "could not broadcast input array from shape (23) into shape (23,1)",
     "output_type": "error",
     "traceback": [
      "\u001b[1;31m---------------------------------------------------------------------------\u001b[0m",
      "\u001b[1;31mValueError\u001b[0m                                Traceback (most recent call last)",
      "\u001b[1;32m<ipython-input-119-e9b829749c91>\u001b[0m in \u001b[0;36m<module>\u001b[1;34m()\u001b[0m\n\u001b[0;32m      1\u001b[0m \u001b[0mtrainPredictPlot\u001b[0m \u001b[1;33m=\u001b[0m \u001b[0mnp\u001b[0m\u001b[1;33m.\u001b[0m\u001b[0mempty_like\u001b[0m\u001b[1;33m(\u001b[0m\u001b[0mdataset\u001b[0m\u001b[1;33m)\u001b[0m\u001b[1;33m\u001b[0m\u001b[0m\n\u001b[0;32m      2\u001b[0m \u001b[0mtrainPredictPlot\u001b[0m\u001b[1;33m[\u001b[0m\u001b[1;33m:\u001b[0m\u001b[1;33m,\u001b[0m \u001b[1;33m:\u001b[0m\u001b[1;33m]\u001b[0m \u001b[1;33m=\u001b[0m \u001b[0mnp\u001b[0m\u001b[1;33m.\u001b[0m\u001b[0mnan\u001b[0m\u001b[1;33m\u001b[0m\u001b[0m\n\u001b[1;32m----> 3\u001b[1;33m \u001b[0mtrainPredictPlot\u001b[0m\u001b[1;33m[\u001b[0m\u001b[0mlook_back\u001b[0m\u001b[1;33m:\u001b[0m\u001b[0mlen\u001b[0m\u001b[1;33m(\u001b[0m\u001b[0mtrainPredict\u001b[0m\u001b[1;33m)\u001b[0m\u001b[1;33m+\u001b[0m\u001b[0mlook_back\u001b[0m\u001b[1;33m]\u001b[0m \u001b[1;33m=\u001b[0m \u001b[0mtrainPredict\u001b[0m\u001b[1;33m\u001b[0m\u001b[0m\n\u001b[0m",
      "\u001b[1;31mValueError\u001b[0m: could not broadcast input array from shape (23) into shape (23,1)"
     ]
    }
   ],
   "source": [
    "trainPredictPlot = np.empty_like(dataset)\n",
    "trainPredictPlot[:, :] = np.nan\n",
    "trainPredictPlot[look_back:len(trainPredict)+look_back] = trainPredict"
   ]
  },
  {
   "cell_type": "code",
   "execution_count": null,
   "metadata": {},
   "outputs": [],
   "source": []
  },
  {
   "cell_type": "code",
   "execution_count": null,
   "metadata": {},
   "outputs": [],
   "source": []
  },
  {
   "cell_type": "code",
   "execution_count": null,
   "metadata": {
    "collapsed": true
   },
   "outputs": [],
   "source": []
  },
  {
   "cell_type": "code",
   "execution_count": null,
   "metadata": {
    "collapsed": true
   },
   "outputs": [],
   "source": []
  },
  {
   "cell_type": "code",
   "execution_count": null,
   "metadata": {
    "collapsed": true
   },
   "outputs": [],
   "source": []
  },
  {
   "cell_type": "code",
   "execution_count": null,
   "metadata": {
    "collapsed": true
   },
   "outputs": [],
   "source": []
  },
  {
   "cell_type": "code",
   "execution_count": 225,
   "metadata": {
    "collapsed": true
   },
   "outputs": [],
   "source": [
    "data = pd.read_csv('test/prime.csv',header=0,index_col=0).sort_index()"
   ]
  },
  {
   "cell_type": "code",
   "execution_count": 236,
   "metadata": {},
   "outputs": [
    {
     "data": {
      "text/plain": [
       "(119, 1)"
      ]
     },
     "execution_count": 236,
     "metadata": {},
     "output_type": "execute_result"
    }
   ],
   "source": [
    "data.shape"
   ]
  },
  {
   "cell_type": "code",
   "execution_count": 244,
   "metadata": {},
   "outputs": [
    {
     "data": {
      "text/html": [
       "<div>\n",
       "<style>\n",
       "    .dataframe thead tr:only-child th {\n",
       "        text-align: right;\n",
       "    }\n",
       "\n",
       "    .dataframe thead th {\n",
       "        text-align: left;\n",
       "    }\n",
       "\n",
       "    .dataframe tbody tr th {\n",
       "        vertical-align: top;\n",
       "    }\n",
       "</style>\n",
       "<table border=\"1\" class=\"dataframe\">\n",
       "  <thead>\n",
       "    <tr style=\"text-align: right;\">\n",
       "      <th></th>\n",
       "      <th>Value</th>\n",
       "    </tr>\n",
       "    <tr>\n",
       "      <th>Date</th>\n",
       "      <th></th>\n",
       "    </tr>\n",
       "  </thead>\n",
       "  <tbody>\n",
       "    <tr>\n",
       "      <th>2014-07-31</th>\n",
       "      <td>15.2</td>\n",
       "    </tr>\n",
       "    <tr>\n",
       "      <th>2014-08-31</th>\n",
       "      <td>15.3</td>\n",
       "    </tr>\n",
       "    <tr>\n",
       "      <th>2014-09-30</th>\n",
       "      <td>15.3</td>\n",
       "    </tr>\n",
       "    <tr>\n",
       "      <th>2014-10-31</th>\n",
       "      <td>15.5</td>\n",
       "    </tr>\n",
       "    <tr>\n",
       "      <th>2014-11-30</th>\n",
       "      <td>15.6</td>\n",
       "    </tr>\n",
       "  </tbody>\n",
       "</table>\n",
       "</div>"
      ],
      "text/plain": [
       "            Value\n",
       "Date             \n",
       "2014-07-31   15.2\n",
       "2014-08-31   15.3\n",
       "2014-09-30   15.3\n",
       "2014-10-31   15.5\n",
       "2014-11-30   15.6"
      ]
     },
     "execution_count": 244,
     "metadata": {},
     "output_type": "execute_result"
    }
   ],
   "source": [
    "data.tail()"
   ]
  },
  {
   "cell_type": "code",
   "execution_count": 227,
   "metadata": {
    "collapsed": true
   },
   "outputs": [],
   "source": [
    "x_data = []\n",
    "y_data = []"
   ]
  },
  {
   "cell_type": "code",
   "execution_count": 228,
   "metadata": {},
   "outputs": [],
   "source": [
    "# Creates a feature matrix with values from previous 6 months\n",
    "for d in range(6,data.shape[0]):\n",
    "    \n",
    "    x = data.iloc[d-6:d].values.ravel()\n",
    "    y = data.iloc[d].values[0]\n",
    "\n",
    "    x_data.append(x)\n",
    "    y_data.append(y)\n",
    "\n",
    "\n",
    "x_data = np.array(x_data)\n",
    "y_data = np.array(y_data)"
   ]
  },
  {
   "cell_type": "code",
   "execution_count": 243,
   "metadata": {},
   "outputs": [
    {
     "data": {
      "text/plain": [
       "19.789999999999999"
      ]
     },
     "execution_count": 243,
     "metadata": {},
     "output_type": "execute_result"
    }
   ],
   "source": [
    "data.iloc[2].values[0]"
   ]
  },
  {
   "cell_type": "code",
   "execution_count": 230,
   "metadata": {
    "collapsed": true
   },
   "outputs": [],
   "source": [
    "#Lists to store the predictions of the models\n",
    "y_pred = []\n",
    "y_pred_last = []\n",
    "y_pred_ma = []\n",
    "y_true = []"
   ]
  },
  {
   "cell_type": "code",
   "execution_count": 250,
   "metadata": {},
   "outputs": [
    {
     "data": {
      "text/plain": [
       "113"
      ]
     },
     "execution_count": 250,
     "metadata": {},
     "output_type": "execute_result"
    }
   ],
   "source": [
    "end"
   ]
  },
  {
   "cell_type": "code",
   "execution_count": 231,
   "metadata": {},
   "outputs": [],
   "source": [
    "#Iterate over the time series creating a new model each month\n",
    "end = y_data.shape[0]\n",
    "for i in range(30,end):\n",
    "\n",
    "    x_train = x_data[:i,:]\n",
    "    y_train = y_data[:i]\n",
    "    \n",
    "    x_test = x_data[i,:]\n",
    "    y_test = y_data[i]\n",
    "\n",
    "\n",
    "    model = LinearRegression(normalize=True)\n",
    "    model.fit(x_train,y_train)\n",
    "\n",
    "    y_pred.append(model.predict(x_test.reshape(1, -1))[0])\n",
    "    y_pred_last.append(x_test[-1])\n",
    "    y_pred_ma.append(x_test.mean())\n",
    "    y_true.append(y_test)"
   ]
  },
  {
   "cell_type": "code",
   "execution_count": 232,
   "metadata": {
    "collapsed": true
   },
   "outputs": [],
   "source": [
    "#Transforms the lists into numpy arrays\n",
    "y_pred = np.array(y_pred)\n",
    "y_pred_last = np.array(y_pred_last)\n",
    "y_pred_ma = np.array(y_pred_ma)\n",
    "y_true = np.array(y_true)"
   ]
  },
  {
   "cell_type": "code",
   "execution_count": null,
   "metadata": {},
   "outputs": [],
   "source": [
    "x_train"
   ]
  },
  {
   "cell_type": "code",
   "execution_count": 233,
   "metadata": {},
   "outputs": [
    {
     "name": "stdout",
     "output_type": "stream",
     "text": [
      "\n",
      "Mean Absolute Percentage Error\n",
      "MAPE Linear Regression 1.87042556874\n",
      "MAPE Last Value Benchmark 2.76774390378\n",
      "MAPE Moving Average Benchmark 7.90386089172\n",
      "\n",
      "Mean Absolute Error\n",
      "MAE Linear Regression 0.284087187881\n",
      "MAE Last Value Benchmark 0.427831325301\n",
      "MAE Moving Average Benchmark 1.19851405622\n"
     ]
    }
   ],
   "source": [
    "#Print errors\n",
    "print('\\nMean Absolute Percentage Error')\n",
    "print('MAPE Linear Regression', mape(y_pred,y_true))\n",
    "print('MAPE Last Value Benchmark', mape(y_pred_last,y_true))\n",
    "print('MAPE Moving Average Benchmark', mape(y_pred_ma,y_true))\n",
    "\n",
    "print('\\nMean Absolute Error')\n",
    "print('MAE Linear Regression', mean_absolute_error(y_pred,y_true))\n",
    "print('MAE Last Value Benchmark', mean_absolute_error(y_pred_last,y_true))\n",
    "print('MAE Moving Average Benchmark', mean_absolute_error(y_pred_ma,y_true))"
   ]
  },
  {
   "cell_type": "code",
   "execution_count": 266,
   "metadata": {},
   "outputs": [
    {
     "data": {
      "image/png": "[encoded data removed]",
      "text/plain": [
       "<matplotlib.figure.Figure at 0xa60210d4a8>"
      ]
     },
     "metadata": {},
     "output_type": "display_data"
    }
   ],
   "source": [
    "plt.title('Prime Rate Brazil - Monthly - 2005 to 2014')\n",
    "plt.ylabel('Prime Rate')\n",
    "plt.xlabel(u'Periods (Months)')\n",
    "reg_val, = plt.plot(y_pred,color='b',label=u'Linear Regression')\n",
    "true_val, = plt.plot(y_true,color='g', label='True Values')\n",
    "plt.xlim([0,85])\n",
    "plt.legend(handles=[true_val,reg_val])\n",
    "plt.show()"
   ]
  }
 ],
 "metadata": {
  "kernelspec": {
   "display_name": "Python 3",
   "language": "python",
   "name": "python3"
  },
  "language_info": {
   "codemirror_mode": {
    "name": "ipython",
    "version": 3
   },
   "file_extension": ".py",
   "mimetype": "text/x-python",
   "name": "python",
   "nbconvert_exporter": "python",
   "pygments_lexer": "ipython3",
   "version": "3.6.1"
  },
  "varInspector": {
   "cols": {
    "lenName": 16,
    "lenType": 16,
    "lenVar": 40
   },
   "kernels_config": {
    "python": {
     "delete_cmd_postfix": "",
     "delete_cmd_prefix": "del ",
     "library": "var_list.py",
     "varRefreshCmd": "print(var_dic_list())"
    },
    "r": {
     "delete_cmd_postfix": ") ",
     "delete_cmd_prefix": "rm(",
     "library": "var_list.r",
     "varRefreshCmd": "cat(var_dic_list()) "
    }
   },
   "types_to_exclude": [
    "module",
    "function",
    "builtin_function_or_method",
    "instance",
    "_Feature"
   ],
   "window_display": false
  }
 },
 "nbformat": 4,
 "nbformat_minor": 2
}
